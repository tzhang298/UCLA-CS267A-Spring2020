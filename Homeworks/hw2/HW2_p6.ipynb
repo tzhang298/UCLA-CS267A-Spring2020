{
 "cells": [
  {
   "cell_type": "code",
   "execution_count": 135,
   "metadata": {},
   "outputs": [
    {
     "name": "stdout",
     "output_type": "stream",
     "text": [
      "0.505\n",
      "0.699\n"
     ]
    }
   ],
   "source": [
    "\n",
    "import random\n",
    "\n",
    "'''\n",
    "pr(a and b) = pr(a) x pr(b)\n",
    "pr(a or b) =  pr(a) + pr(b) - pr(a and b)\n",
    "pr(a or b or c ) = pr(a) + pr(b) + pr(c) - pr(a and b ) - pr(a and c ) - pr(b and c )+ pr(a and b and c )\n",
    "'''\n",
    "\n",
    "def substitute(temp,pr1):\n",
    "    \n",
    "    probability = pr1\n",
    "    #print(pr1)\n",
    "    for i in range(len(probability)):\n",
    "        if (temp<probability[i]):\n",
    "            probability[i] = 1\n",
    "        else: \n",
    "            probability[i] = 0\n",
    "    return probability\n",
    "\n",
    "def draw_sam(curr,cnf):\n",
    "    for ele in cnf:\n",
    "        is_1 = 0\n",
    "        for a in ele:\n",
    "            if a > 0:\n",
    "                if curr[a-1] == 1:\n",
    "                    is_1 = 1\n",
    "                    break\n",
    "            if a < 0:\n",
    "                a = -a\n",
    "                if curr[a-1] == 0:\n",
    "                    is_1 =1\n",
    "                    break\n",
    "        if is_1 == 0:\n",
    "            return False\n",
    "    return True\n",
    "\n",
    "def main(): \n",
    "    #(a_b_:c)^(b_c_d_:e)^(:b_:d_e)^(:a_:b)\n",
    "    a = [1,2,-3]\n",
    "    b = [2,3,4,-5]\n",
    "    c = [-2,-4,5]\n",
    "    d = [-1,-2]\n",
    "    cnf1 = [a,b,c,d]\n",
    "    #(:a _ c _ d) ^ (b _ c _ :d _ e) ^ (:c _ d _ :e)\n",
    "    a = [-1,3,4]\n",
    "    b = [2,3,-4,5]\n",
    "    c = [-3,-4,-5]\n",
    "    cnf2 = [a,b,c]\n",
    "\n",
    "    n = 1000\n",
    "    #Pr(a) = 0:3; Pr(b) = 0:6; Pr(c) = 0:1; Pr(d) = 0:8; Pr(e) = 0:4\n",
    "    pr1 = [0.3,0.6,0.1,0.8,0.4]\n",
    "    #Pr(a) = 0:2; Pr(b) = 0:1; Pr(c) = 0:8; Pr(d) = 0:3; Pr(e) = 0:5\n",
    "    pr2 = [0.2,0.1,0.8,0.3,0.5]\n",
    "\n",
    "    num_1 = 0\n",
    "    is_1 = 0\n",
    "    for i in range (n):\n",
    "        temp = random.random()\n",
    "        cur = substitute(temp,[0.3,0.6,0.1,0.8,0.4])\n",
    "        if draw_sam(cur,cnf1)==True:\n",
    "            num_1 = num_1+1 \n",
    "    print(num_1/n)\n",
    "\n",
    "\n",
    "    num_1 = 0\n",
    "    for i in range (n):\n",
    "        temp = random.random()\n",
    "        cur = substitute(temp,[0.2,0.1,0.8,0.3,0.5])\n",
    "        if draw_sam(cur,cnf2)==True:\n",
    "            num_1 = num_1 +1 \n",
    "\n",
    "    print(num_1/n)\n",
    "    \n",
    "\n",
    "    \n",
    "main()    \n",
    "\n",
    "            \n",
    "                    \n",
    "    \n",
    "\n"
   ]
  },
  {
   "cell_type": "code",
   "execution_count": null,
   "metadata": {},
   "outputs": [],
   "source": []
  },
  {
   "cell_type": "code",
   "execution_count": null,
   "metadata": {},
   "outputs": [],
   "source": []
  }
 ],
 "metadata": {
  "kernelspec": {
   "display_name": "Python 3",
   "language": "python",
   "name": "python3"
  },
  "language_info": {
   "codemirror_mode": {
    "name": "ipython",
    "version": 3
   },
   "file_extension": ".py",
   "mimetype": "text/x-python",
   "name": "python",
   "nbconvert_exporter": "python",
   "pygments_lexer": "ipython3",
   "version": "3.7.6"
  }
 },
 "nbformat": 4,
 "nbformat_minor": 4
}
